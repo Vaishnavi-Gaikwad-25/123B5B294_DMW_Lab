{
  "nbformat": 4,
  "nbformat_minor": 0,
  "metadata": {
    "colab": {
      "provenance": []
    },
    "kernelspec": {
      "name": "python3",
      "display_name": "Python 3"
    },
    "language_info": {
      "name": "python"
    }
  },
  "cells": [
    {
      "cell_type": "code",
      "execution_count": null,
      "metadata": {
        "colab": {
          "base_uri": "https://localhost:8080/"
        },
        "id": "Mx8FnnwuRnDs",
        "outputId": "ebba6864-430b-49e6-81fc-9602419156bc"
      },
      "outputs": [
        {
          "output_type": "stream",
          "name": "stdout",
          "text": [
            "    Name   Age  Gender   Salary\n",
            "0   John  25.0       M  50000.0\n",
            "1  Sarah   NaN  Female  52000.0\n",
            "2   Mike -10.0    male      NaN\n",
            "3   John  25.0       M  50000.0\n",
            "4  Indai  40.0       F  70000.0\n"
          ]
        }
      ],
      "source": [
        "import pandas as pd\n",
        "\n",
        "data = {\n",
        "    \"Name\": [\"John\", \"Sarah\", \"Mike\", \"John\", \"Indai\"],\n",
        "    \"Age\": [25,None, -10, 25, 40],\n",
        "    \"Gender\": [\"M\", \"Female\", \"male\", \"M\", \"F\"],\n",
        "    \"Salary\": [50000, 52000, None, 50000, 70000]\n",
        "}\n",
        "\n",
        "df = pd.DataFrame(data)\n",
        "\n",
        "print(df)\n"
      ]
    },
    {
      "cell_type": "code",
      "source": [
        "print(df.isnull())"
      ],
      "metadata": {
        "colab": {
          "base_uri": "https://localhost:8080/"
        },
        "id": "QLgBSKHjUHiD",
        "outputId": "8d4d7fcd-77fb-4754-e1c3-279bb9b0d1bc"
      },
      "execution_count": null,
      "outputs": [
        {
          "output_type": "stream",
          "name": "stdout",
          "text": [
            "    Name    Age  Gender  Salary\n",
            "0  False  False   False   False\n",
            "1  False   True   False   False\n",
            "2  False  False   False    True\n",
            "3  False  False   False   False\n",
            "4  False  False   False   False\n"
          ]
        }
      ]
    },
    {
      "cell_type": "code",
      "source": [
        "print(df.duplicated())"
      ],
      "metadata": {
        "colab": {
          "base_uri": "https://localhost:8080/"
        },
        "id": "kVpGQbm3TxHo",
        "outputId": "e69b2223-67b1-4ab8-a65e-55e11d1f09ca"
      },
      "execution_count": null,
      "outputs": [
        {
          "output_type": "stream",
          "name": "stdout",
          "text": [
            "0    False\n",
            "1    False\n",
            "2    False\n",
            "3     True\n",
            "4    False\n",
            "dtype: bool\n"
          ]
        }
      ]
    },
    {
      "cell_type": "code",
      "source": [
        "df = df.drop_duplicates()\n",
        "print(df)"
      ],
      "metadata": {
        "colab": {
          "base_uri": "https://localhost:8080/"
        },
        "id": "NfkD8YZsV3rn",
        "outputId": "27f01e03-c6c9-4f57-d7b3-6f0425ea90ff"
      },
      "execution_count": null,
      "outputs": [
        {
          "output_type": "stream",
          "name": "stdout",
          "text": [
            "    Name   Age  Gender   Salary\n",
            "0   John  25.0       M  50000.0\n",
            "1  Sarah   NaN  Female  52000.0\n",
            "2   Mike -10.0    male      NaN\n",
            "4  Indai  40.0       F  70000.0\n"
          ]
        }
      ]
    },
    {
      "cell_type": "code",
      "source": [
        "# Find rows with negative ages\n",
        "negative_ages = df[df['Age'] < 0]\n",
        "print(negative_ages)"
      ],
      "metadata": {
        "colab": {
          "base_uri": "https://localhost:8080/"
        },
        "id": "AIFbV8Ullrt5",
        "outputId": "77601f43-b101-4b30-f58e-7ae22817437c"
      },
      "execution_count": null,
      "outputs": [
        {
          "output_type": "stream",
          "name": "stdout",
          "text": [
            "   Name   Age Gender  Salary\n",
            "2  Mike -10.0   male     NaN\n"
          ]
        }
      ]
    },
    {
      "cell_type": "code",
      "source": [
        "import numpy as np\n",
        "\n",
        "df['Age'] = df['Age'].apply(lambda x: np.nan if x < 0 else x)\n",
        "\n",
        "print(df)"
      ],
      "metadata": {
        "colab": {
          "base_uri": "https://localhost:8080/"
        },
        "id": "IfPtSqn_l9jd",
        "outputId": "e384fb1b-b73f-4c62-f7dd-2b612d263c42"
      },
      "execution_count": null,
      "outputs": [
        {
          "output_type": "stream",
          "name": "stdout",
          "text": [
            "    Name   Age  Gender   Salary\n",
            "0   John  25.0       M  50000.0\n",
            "1  Sarah   NaN  Female  52000.0\n",
            "2   Mike   NaN    male      NaN\n",
            "4  Indai  40.0       F  70000.0\n"
          ]
        }
      ]
    },
    {
      "cell_type": "code",
      "source": [
        "df['Age'] = df['Age'].fillna(df['Age'].mean())\n",
        "df['Salary'] = df['Salary'].fillna(df['Salary'].mean())\n",
        "\n",
        "\n",
        "print(df)"
      ],
      "metadata": {
        "colab": {
          "base_uri": "https://localhost:8080/"
        },
        "id": "o7Fgp0gjXwjm",
        "outputId": "ba1a1388-6b54-4579-93e7-32c6cc711bda"
      },
      "execution_count": null,
      "outputs": [
        {
          "output_type": "stream",
          "name": "stdout",
          "text": [
            "    Name   Age  Gender        Salary\n",
            "0   John  25.0       M  50000.000000\n",
            "1  Sarah  32.5  Female  52000.000000\n",
            "2   Mike  32.5    male  57333.333333\n",
            "4  Indai  40.0       F  70000.000000\n"
          ]
        }
      ]
    },
    {
      "cell_type": "code",
      "source": [
        "# df[\"Gender\"].str.lower().map({\n",
        "#     \"m\": \"Male\",\n",
        "#     \"male\": \"Male\",\n",
        "#     \"f\": \"Female\",\n",
        "#     \"female\": \"Female\"\n",
        "# })\n",
        "\n",
        "df[\"Gender\"] = df[\"Gender\"].replace({\n",
        "    \"M\": \"Male\",\n",
        "    \"male\": \"Male\",\n",
        "    \"F\": \"Female\",\n",
        "    \"Female\": \"Female\"\n",
        "})\n",
        "\n",
        "print(df)"
      ],
      "metadata": {
        "colab": {
          "base_uri": "https://localhost:8080/"
        },
        "id": "TXIrRM7FalXj",
        "outputId": "66ab7d4c-7ca6-4d18-d253-77fbfce02d9e"
      },
      "execution_count": null,
      "outputs": [
        {
          "output_type": "stream",
          "name": "stdout",
          "text": [
            "    Name   Age  Gender        Salary\n",
            "0   John  25.0    Male  50000.000000\n",
            "1  Sarah  32.5  Female  52000.000000\n",
            "2   Mike  32.5    Male  57333.333333\n",
            "4  Indai  40.0  Female  70000.000000\n"
          ]
        }
      ]
    },
    {
      "cell_type": "code",
      "source": [
        "# Min-Max Scaling\n",
        "from sklearn.preprocessing import MinMaxScaler\n",
        "\n",
        "scaler = MinMaxScaler()\n",
        "df[['Age', 'Salary']] = scaler.fit_transform(df[['Age', 'Salary']])\n",
        "\n",
        "print(df)"
      ],
      "metadata": {
        "colab": {
          "base_uri": "https://localhost:8080/"
        },
        "id": "VYOG6EF7pTEY",
        "outputId": "3eae41a5-f77a-4d23-e7f5-5ddd8ca5e05b"
      },
      "execution_count": null,
      "outputs": [
        {
          "output_type": "stream",
          "name": "stdout",
          "text": [
            "    Name  Age  Gender    Salary\n",
            "0   John  0.0    Male  0.000000\n",
            "1  Sarah  0.5  Female  0.100000\n",
            "2   Mike  0.5    Male  0.366667\n",
            "4  Indai  1.0  Female  1.000000\n"
          ]
        }
      ]
    },
    {
      "cell_type": "code",
      "source": [
        "(df[\"Age\"] - df[\"Age\"].min()) / (df[\"Age\"].max() - df[\"Age\"].min())\n",
        "(df[\"Salary\"] - df[\"Salary\"].min()) / (df[\"Salary\"].max() - df[\"Salary\"].min())\n",
        "\n",
        "print(df)"
      ],
      "metadata": {
        "colab": {
          "base_uri": "https://localhost:8080/"
        },
        "id": "1oPKgxapfART",
        "outputId": "78242f1d-aaf1-4127-f8d4-4f265c309829"
      },
      "execution_count": null,
      "outputs": [
        {
          "output_type": "stream",
          "name": "stdout",
          "text": [
            "    Name  Age  Gender    Salary\n",
            "0   John  0.0    Male  0.000000\n",
            "1  Sarah  0.5  Female  0.100000\n",
            "2   Mike  0.5    Male  0.366667\n",
            "4  Indai  1.0  Female  1.000000\n"
          ]
        }
      ]
    }
  ]
}